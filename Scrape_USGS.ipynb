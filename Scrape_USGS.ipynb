{
 "cells": [
  {
   "cell_type": "code",
   "execution_count": 231,
   "metadata": {},
   "outputs": [],
   "source": [
    "# Declare Dependencies \n",
    "from bs4 import BeautifulSoup as bs\n",
    "from splinter import Browser\n",
    "import pandas as pd\n",
    "import requests\n",
    "from webdriver_manager.chrome import ChromeDriverManager\n",
    "import time\n",
    "from pprint import pprint\n",
    "from selenium import webdriver\n",
    "import selenium.webdriver.common.keys"
   ]
  },
  {
   "cell_type": "code",
   "execution_count": 246,
   "metadata": {},
   "outputs": [],
   "source": [
    "from selenium import webdriver"
   ]
  },
  {
   "cell_type": "code",
   "execution_count": 232,
   "metadata": {},
   "outputs": [
    {
     "name": "stderr",
     "output_type": "stream",
     "text": [
      "[WDM] - ====== WebDriver manager ======\n",
      "[WDM] - Current google-chrome version is 89.0.4389\n",
      "[WDM] - Get LATEST driver version for 89.0.4389\n"
     ]
    },
    {
     "name": "stdout",
     "output_type": "stream",
     "text": [
      "\n",
      "\n"
     ]
    },
    {
     "name": "stderr",
     "output_type": "stream",
     "text": [
      "[WDM] - Driver [C:\\Users\\kaoti\\.wdm\\drivers\\chromedriver\\win32\\89.0.4389.23\\chromedriver.exe] found in cache\n"
     ]
    }
   ],
   "source": [
    "executable_path = {'executable_path': ChromeDriverManager().install()}\n",
    "browser = Browser('chrome', **executable_path, headless=False)"
   ]
  },
  {
   "cell_type": "markdown",
   "metadata": {},
   "source": [
    "# USGS Magnitude 2.5+ Earthquakes, Past Day"
   ]
  },
  {
   "cell_type": "code",
   "execution_count": 233,
   "metadata": {},
   "outputs": [],
   "source": [
    "# input URL\n",
    "url = 'https://earthquake.usgs.gov/earthquakes/map/?extent=-89.99999,-863.4375&extent=89.99999,672.1875&map=false'\n",
    "browser.visit(url)"
   ]
  },
  {
   "cell_type": "code",
   "execution_count": 24,
   "metadata": {},
   "outputs": [],
   "source": [
    "# HTML Object\n",
    "html = browser.html\n",
    "\n",
    "# Parse HTML with Beautiful Soup\n",
    "soup = bs(html, 'html.parser')\n",
    "\n",
    "#scrape all titles and teasers \n",
    "all_region = soup.find_all('h6', class_='header')\n",
    "\n",
    "#pprint(all_region)"
   ]
  },
  {
   "cell_type": "code",
   "execution_count": 25,
   "metadata": {},
   "outputs": [],
   "source": [
    "all_time = soup.find_all('span', class_='time')\n",
    "\n"
   ]
  },
  {
   "cell_type": "code",
   "execution_count": 26,
   "metadata": {},
   "outputs": [
    {
     "name": "stdout",
     "output_type": "stream",
     "text": [
      "20km W of Petrolia, CA\n",
      "2.5\n",
      "2021-04-20 07:08:45 (UTC-07:00)\n"
     ]
    }
   ],
   "source": [
    "all_mag = soup.find_all('span', class_='ng-star-inserted')\n",
    "\n",
    "\n",
    "# display scrapped data\n",
    "#pprint(all_mag)\n",
    "\n",
    "#select latest earthquake and magnitude\n",
    "newest_region = all_region[0].text\n",
    "newest_magnitude = all_mag[5].text\n",
    "newest_time = all_time[0].text\n",
    "\n",
    "print(newest_region)\n",
    "print(newest_magnitude)\n",
    "print(newest_time)"
   ]
  },
  {
   "cell_type": "code",
   "execution_count": 234,
   "metadata": {},
   "outputs": [],
   "source": [
    "browser.find_by_tag('h6').click()"
   ]
  },
  {
   "cell_type": "code",
   "execution_count": 235,
   "metadata": {},
   "outputs": [],
   "source": [
    "browser.click_link_by_partial_text('of')\n",
    "time.sleep(1)"
   ]
  },
  {
   "cell_type": "code",
   "execution_count": 245,
   "metadata": {},
   "outputs": [
    {
     "ename": "AttributeError",
     "evalue": "'WebDriver' object has no attribute 'switch_to_window'",
     "output_type": "error",
     "traceback": [
      "\u001b[1;31m---------------------------------------------------------------------------\u001b[0m",
      "\u001b[1;31mAttributeError\u001b[0m                            Traceback (most recent call last)",
      "\u001b[1;32m<ipython-input-245-e7962f1b1284>\u001b[0m in \u001b[0;36m<module>\u001b[1;34m\u001b[0m\n\u001b[1;32m----> 1\u001b[1;33m \u001b[0mbrowser\u001b[0m\u001b[1;33m.\u001b[0m\u001b[0mswitch_to_window\u001b[0m\u001b[1;33m(\u001b[0m\u001b[0mbrowser\u001b[0m\u001b[1;33m.\u001b[0m\u001b[0mwindow_handles\u001b[0m\u001b[1;33m[\u001b[0m\u001b[1;36m1\u001b[0m\u001b[1;33m]\u001b[0m\u001b[1;33m)\u001b[0m\u001b[1;33m\u001b[0m\u001b[1;33m\u001b[0m\u001b[0m\n\u001b[0m",
      "\u001b[1;31mAttributeError\u001b[0m: 'WebDriver' object has no attribute 'switch_to_window'"
     ]
    }
   ],
   "source": [
    "browser.switch_to_window(browser.window_handles[1])"
   ]
  },
  {
   "cell_type": "code",
   "execution_count": 212,
   "metadata": {},
   "outputs": [
    {
     "ename": "ElementDoesNotExist",
     "evalue": "no elements could be found with link by partial text \"Origin\"",
     "output_type": "error",
     "traceback": [
      "\u001b[1;31m---------------------------------------------------------------------------\u001b[0m",
      "\u001b[1;31mIndexError\u001b[0m                                Traceback (most recent call last)",
      "\u001b[1;32m~\\anaconda3\\lib\\site-packages\\splinter\\element_list.py\u001b[0m in \u001b[0;36m__getitem__\u001b[1;34m(self, index)\u001b[0m\n\u001b[0;32m     41\u001b[0m         \u001b[1;32mtry\u001b[0m\u001b[1;33m:\u001b[0m\u001b[1;33m\u001b[0m\u001b[1;33m\u001b[0m\u001b[0m\n\u001b[1;32m---> 42\u001b[1;33m             \u001b[1;32mreturn\u001b[0m \u001b[0mself\u001b[0m\u001b[1;33m.\u001b[0m\u001b[0m_container\u001b[0m\u001b[1;33m[\u001b[0m\u001b[0mindex\u001b[0m\u001b[1;33m]\u001b[0m\u001b[1;33m\u001b[0m\u001b[1;33m\u001b[0m\u001b[0m\n\u001b[0m\u001b[0;32m     43\u001b[0m         \u001b[1;32mexcept\u001b[0m \u001b[0mIndexError\u001b[0m\u001b[1;33m:\u001b[0m\u001b[1;33m\u001b[0m\u001b[1;33m\u001b[0m\u001b[0m\n",
      "\u001b[1;31mIndexError\u001b[0m: list index out of range",
      "\nDuring handling of the above exception, another exception occurred:\n",
      "\u001b[1;31mElementDoesNotExist\u001b[0m                       Traceback (most recent call last)",
      "\u001b[1;32m<ipython-input-212-68213fd31480>\u001b[0m in \u001b[0;36m<module>\u001b[1;34m\u001b[0m\n\u001b[1;32m----> 1\u001b[1;33m \u001b[0mbrowser\u001b[0m\u001b[1;33m.\u001b[0m\u001b[0mclick_link_by_partial_text\u001b[0m\u001b[1;33m(\u001b[0m\u001b[1;34m'Origin'\u001b[0m\u001b[1;33m)\u001b[0m\u001b[1;33m\u001b[0m\u001b[1;33m\u001b[0m\u001b[0m\n\u001b[0m",
      "\u001b[1;32m~\\anaconda3\\lib\\site-packages\\splinter\\driver\\__init__.py\u001b[0m in \u001b[0;36mclick_link_by_partial_text\u001b[1;34m(self, partial_text)\u001b[0m\n\u001b[0;32m    394\u001b[0m         \u001b[0mClicks\u001b[0m \u001b[1;32min\u001b[0m \u001b[0ma\u001b[0m \u001b[0mlink\u001b[0m \u001b[0mby\u001b[0m \u001b[0mpartial\u001b[0m \u001b[0mcontent\u001b[0m \u001b[0mof\u001b[0m \u001b[0mits\u001b[0m \u001b[0mtext\u001b[0m\u001b[1;33m.\u001b[0m\u001b[1;33m\u001b[0m\u001b[1;33m\u001b[0m\u001b[0m\n\u001b[0;32m    395\u001b[0m         \"\"\"\n\u001b[1;32m--> 396\u001b[1;33m         \u001b[1;32mreturn\u001b[0m \u001b[0mself\u001b[0m\u001b[1;33m.\u001b[0m\u001b[0mfind_link_by_partial_text\u001b[0m\u001b[1;33m(\u001b[0m\u001b[0mpartial_text\u001b[0m\u001b[1;33m)\u001b[0m\u001b[1;33m.\u001b[0m\u001b[0mfirst\u001b[0m\u001b[1;33m.\u001b[0m\u001b[0mclick\u001b[0m\u001b[1;33m(\u001b[0m\u001b[1;33m)\u001b[0m\u001b[1;33m\u001b[0m\u001b[1;33m\u001b[0m\u001b[0m\n\u001b[0m\u001b[0;32m    397\u001b[0m \u001b[1;33m\u001b[0m\u001b[0m\n\u001b[0;32m    398\u001b[0m     \u001b[1;32mdef\u001b[0m \u001b[0mclick_link_by_id\u001b[0m\u001b[1;33m(\u001b[0m\u001b[0mself\u001b[0m\u001b[1;33m,\u001b[0m \u001b[0mid\u001b[0m\u001b[1;33m)\u001b[0m\u001b[1;33m:\u001b[0m\u001b[1;33m\u001b[0m\u001b[1;33m\u001b[0m\u001b[0m\n",
      "\u001b[1;32m~\\anaconda3\\lib\\site-packages\\splinter\\element_list.py\u001b[0m in \u001b[0;36mfirst\u001b[1;34m(self)\u001b[0m\n\u001b[0;32m     55\u001b[0m             \u001b[1;33m>>\u001b[0m\u001b[1;33m>\u001b[0m \u001b[1;32massert\u001b[0m \u001b[0melement_list\u001b[0m\u001b[1;33m[\u001b[0m\u001b[1;36m0\u001b[0m\u001b[1;33m]\u001b[0m \u001b[1;33m==\u001b[0m \u001b[0melement_list\u001b[0m\u001b[1;33m.\u001b[0m\u001b[0mfirst\u001b[0m\u001b[1;33m\u001b[0m\u001b[1;33m\u001b[0m\u001b[0m\n\u001b[0;32m     56\u001b[0m         \"\"\"\n\u001b[1;32m---> 57\u001b[1;33m         \u001b[1;32mreturn\u001b[0m \u001b[0mself\u001b[0m\u001b[1;33m[\u001b[0m\u001b[1;36m0\u001b[0m\u001b[1;33m]\u001b[0m\u001b[1;33m\u001b[0m\u001b[1;33m\u001b[0m\u001b[0m\n\u001b[0m\u001b[0;32m     58\u001b[0m \u001b[1;33m\u001b[0m\u001b[0m\n\u001b[0;32m     59\u001b[0m     \u001b[1;33m@\u001b[0m\u001b[0mproperty\u001b[0m\u001b[1;33m\u001b[0m\u001b[1;33m\u001b[0m\u001b[0m\n",
      "\u001b[1;32m~\\anaconda3\\lib\\site-packages\\splinter\\element_list.py\u001b[0m in \u001b[0;36m__getitem__\u001b[1;34m(self, index)\u001b[0m\n\u001b[0;32m     42\u001b[0m             \u001b[1;32mreturn\u001b[0m \u001b[0mself\u001b[0m\u001b[1;33m.\u001b[0m\u001b[0m_container\u001b[0m\u001b[1;33m[\u001b[0m\u001b[0mindex\u001b[0m\u001b[1;33m]\u001b[0m\u001b[1;33m\u001b[0m\u001b[1;33m\u001b[0m\u001b[0m\n\u001b[0;32m     43\u001b[0m         \u001b[1;32mexcept\u001b[0m \u001b[0mIndexError\u001b[0m\u001b[1;33m:\u001b[0m\u001b[1;33m\u001b[0m\u001b[1;33m\u001b[0m\u001b[0m\n\u001b[1;32m---> 44\u001b[1;33m             raise ElementDoesNotExist(\n\u001b[0m\u001b[0;32m     45\u001b[0m                 u'no elements could be found with {0} \"{1}\"'.format(\n\u001b[0;32m     46\u001b[0m                     \u001b[0mself\u001b[0m\u001b[1;33m.\u001b[0m\u001b[0mfind_by\u001b[0m\u001b[1;33m,\u001b[0m \u001b[0mself\u001b[0m\u001b[1;33m.\u001b[0m\u001b[0mquery\u001b[0m\u001b[1;33m\u001b[0m\u001b[1;33m\u001b[0m\u001b[0m\n",
      "\u001b[1;31mElementDoesNotExist\u001b[0m: no elements could be found with link by partial text \"Origin\""
     ]
    }
   ],
   "source": [
    "browser.click_link_by_partial_text('Origin')"
   ]
  },
  {
   "cell_type": "code",
   "execution_count": 227,
   "metadata": {},
   "outputs": [],
   "source": [
    "loc = soup.find_all('span', class_='ng-star-inserted')"
   ]
  },
  {
   "cell_type": "code",
   "execution_count": 228,
   "metadata": {},
   "outputs": [
    {
     "name": "stdout",
     "output_type": "stream",
     "text": [
      "[<span _ngcontent-dkq-c46=\"\" class=\"ng-star-inserted\">USGS Magnitude 2.5+ Earthquakes, Past Day</span>,\n",
      " <span class=\"mat-select-value-text ng-tns-c57-2 ng-star-inserted\"><span class=\"ng-tns-c57-2 ng-star-inserted\">Magnitude</span><!-- --><!-- --></span>,\n",
      " <span class=\"ng-tns-c57-2 ng-star-inserted\">Magnitude</span>,\n",
      " <span class=\"mat-select-value-text ng-tns-c57-4 ng-star-inserted\"><span class=\"ng-tns-c57-4 ng-star-inserted\">Newest  First</span><!-- --><!-- --></span>,\n",
      " <span class=\"ng-tns-c57-4 ng-star-inserted\">Newest  First</span>,\n",
      " <span _ngcontent-dkq-c68=\"\" class=\"ng-star-inserted\">2.5</span>,\n",
      " <span _ngcontent-dkq-c68=\"\" class=\"ng-star-inserted\">22.8 km</span>,\n",
      " <span _ngcontent-dkq-c68=\"\" class=\"ng-star-inserted\">2.7</span>,\n",
      " <span _ngcontent-dkq-c68=\"\" class=\"ng-star-inserted\">34.8 km</span>,\n",
      " <span _ngcontent-dkq-c68=\"\" class=\"ng-star-inserted\">2.7</span>,\n",
      " <span _ngcontent-dkq-c68=\"\" class=\"ng-star-inserted\">31.9 km</span>,\n",
      " <span _ngcontent-dkq-c68=\"\" class=\"ng-star-inserted\">2.8</span>,\n",
      " <span _ngcontent-dkq-c68=\"\" class=\"ng-star-inserted\">8.0 km</span>,\n",
      " <span _ngcontent-dkq-c68=\"\" class=\"ng-star-inserted\">2.9</span>,\n",
      " <span _ngcontent-dkq-c68=\"\" class=\"ng-star-inserted\">7.8 km</span>,\n",
      " <span _ngcontent-dkq-c68=\"\" class=\"ng-star-inserted\">3.2</span>,\n",
      " <span _ngcontent-dkq-c68=\"\" class=\"ng-star-inserted\">9.0 km</span>,\n",
      " <span _ngcontent-dkq-c68=\"\" class=\"ng-star-inserted\">3.6</span>,\n",
      " <span _ngcontent-dkq-c68=\"\" class=\"ng-star-inserted\">8.0 km</span>,\n",
      " <span _ngcontent-dkq-c68=\"\" class=\"ng-star-inserted\">4.4</span>,\n",
      " <span _ngcontent-dkq-c68=\"\" class=\"ng-star-inserted\">523.3 km</span>,\n",
      " <span _ngcontent-dkq-c68=\"\" class=\"ng-star-inserted\">4.0</span>,\n",
      " <span _ngcontent-dkq-c68=\"\" class=\"ng-star-inserted\">31.2 km</span>,\n",
      " <span _ngcontent-dkq-c68=\"\" class=\"ng-star-inserted\">2.7</span>,\n",
      " <span _ngcontent-dkq-c68=\"\" class=\"ng-star-inserted\">32.5 km</span>,\n",
      " <span _ngcontent-dkq-c68=\"\" class=\"ng-star-inserted\">2.5</span>,\n",
      " <span _ngcontent-dkq-c68=\"\" class=\"ng-star-inserted\">6.2 km</span>,\n",
      " <span _ngcontent-dkq-c68=\"\" class=\"ng-star-inserted\">2.7</span>,\n",
      " <span _ngcontent-dkq-c68=\"\" class=\"ng-star-inserted\">56.2 km</span>,\n",
      " <span _ngcontent-dkq-c68=\"\" class=\"ng-star-inserted\">2.7</span>,\n",
      " <span _ngcontent-dkq-c68=\"\" class=\"ng-star-inserted\">15.8 km</span>,\n",
      " <span _ngcontent-dkq-c68=\"\" class=\"ng-star-inserted\">3.0</span>,\n",
      " <span _ngcontent-dkq-c68=\"\" class=\"ng-star-inserted\">34.6 km</span>,\n",
      " <span _ngcontent-dkq-c68=\"\" class=\"ng-star-inserted\">3.6</span>,\n",
      " <span _ngcontent-dkq-c68=\"\" class=\"ng-star-inserted\">58.0 km</span>,\n",
      " <span _ngcontent-dkq-c68=\"\" class=\"ng-star-inserted\">2.5</span>,\n",
      " <span _ngcontent-dkq-c68=\"\" class=\"ng-star-inserted\">11.0 km</span>,\n",
      " <span _ngcontent-dkq-c68=\"\" class=\"ng-star-inserted\">4.6</span>,\n",
      " <span _ngcontent-dkq-c68=\"\" class=\"ng-star-inserted\">18.6 km</span>,\n",
      " <span _ngcontent-dkq-c68=\"\" class=\"ng-star-inserted\">2.8</span>,\n",
      " <span _ngcontent-dkq-c68=\"\" class=\"ng-star-inserted\">8.2 km</span>,\n",
      " <span _ngcontent-dkq-c68=\"\" class=\"ng-star-inserted\">3.3</span>,\n",
      " <span _ngcontent-dkq-c68=\"\" class=\"ng-star-inserted\">9.0 km</span>,\n",
      " <span _ngcontent-dkq-c68=\"\" class=\"ng-star-inserted\">4.8</span>,\n",
      " <span _ngcontent-dkq-c68=\"\" class=\"ng-star-inserted\">45.5 km</span>,\n",
      " <span _ngcontent-dkq-c68=\"\" class=\"ng-star-inserted\">3.5</span>,\n",
      " <span _ngcontent-dkq-c68=\"\" class=\"ng-star-inserted\">16.0 km</span>,\n",
      " <span _ngcontent-dkq-c68=\"\" class=\"ng-star-inserted\">2.8</span>,\n",
      " <span _ngcontent-dkq-c68=\"\" class=\"ng-star-inserted\">22.5 km</span>,\n",
      " <span _ngcontent-dkq-c68=\"\" class=\"ng-star-inserted\">3.8</span>,\n",
      " <span _ngcontent-dkq-c68=\"\" class=\"ng-star-inserted\">23.1 km</span>,\n",
      " <span _ngcontent-dkq-c68=\"\" class=\"ng-star-inserted\">2.5</span>,\n",
      " <span _ngcontent-dkq-c68=\"\" class=\"ng-star-inserted\">86.1 km</span>,\n",
      " <span _ngcontent-dkq-c68=\"\" class=\"ng-star-inserted\">5.0</span>,\n",
      " <span _ngcontent-dkq-c68=\"\" class=\"ng-star-inserted\">10.0 km</span>,\n",
      " <span _ngcontent-dkq-c68=\"\" class=\"ng-star-inserted\">4.8</span>,\n",
      " <span _ngcontent-dkq-c68=\"\" class=\"ng-star-inserted\">103.1 km</span>,\n",
      " <span _ngcontent-dkq-c68=\"\" class=\"ng-star-inserted\">4.9</span>,\n",
      " <span _ngcontent-dkq-c68=\"\" class=\"ng-star-inserted\">99.1 km</span>,\n",
      " <span _ngcontent-dkq-c68=\"\" class=\"ng-star-inserted\">6.1</span>,\n",
      " <span _ngcontent-dkq-c68=\"\" class=\"ng-star-inserted\">9.0 km</span>,\n",
      " <span _ngcontent-dkq-c68=\"\" class=\"ng-star-inserted\">4.8</span>,\n",
      " <span _ngcontent-dkq-c68=\"\" class=\"ng-star-inserted\">613.8 km</span>,\n",
      " <span _ngcontent-dkq-c68=\"\" class=\"ng-star-inserted\">3.3</span>,\n",
      " <span _ngcontent-dkq-c68=\"\" class=\"ng-star-inserted\">6.0 km</span>,\n",
      " <span _ngcontent-dkq-c68=\"\" class=\"ng-star-inserted\">3.9</span>,\n",
      " <span _ngcontent-dkq-c68=\"\" class=\"ng-star-inserted\">12.4 km</span>,\n",
      " <span _ngcontent-dkq-c68=\"\" class=\"ng-star-inserted\">3.5</span>,\n",
      " <span _ngcontent-dkq-c68=\"\" class=\"ng-star-inserted\">11.4 km</span>,\n",
      " <span _ngcontent-dkq-c68=\"\" class=\"ng-star-inserted\">4.3</span>,\n",
      " <span _ngcontent-dkq-c68=\"\" class=\"ng-star-inserted\">10.0 km</span>,\n",
      " <span _ngcontent-dkq-c68=\"\" class=\"ng-star-inserted\">3.9</span>,\n",
      " <span _ngcontent-dkq-c68=\"\" class=\"ng-star-inserted\">11.8 km</span>,\n",
      " <span _ngcontent-dkq-c68=\"\" class=\"ng-star-inserted\">3.2</span>,\n",
      " <span _ngcontent-dkq-c68=\"\" class=\"ng-star-inserted\">34.1 km</span>,\n",
      " <span _ngcontent-dkq-c68=\"\" class=\"ng-star-inserted\">2.7</span>,\n",
      " <span _ngcontent-dkq-c68=\"\" class=\"ng-star-inserted\">11.8 km</span>,\n",
      " <span _ngcontent-dkq-c68=\"\" class=\"ng-star-inserted\">2.6</span>,\n",
      " <span _ngcontent-dkq-c68=\"\" class=\"ng-star-inserted\">-2.0 km</span>,\n",
      " <span _ngcontent-dkq-c68=\"\" class=\"ng-star-inserted\">2.9</span>,\n",
      " <span _ngcontent-dkq-c68=\"\" class=\"ng-star-inserted\">32.0 km</span>,\n",
      " <span _ngcontent-dkq-c68=\"\" class=\"ng-star-inserted\">4.0</span>,\n",
      " <span _ngcontent-dkq-c68=\"\" class=\"ng-star-inserted\">2.9 km</span>,\n",
      " <span _ngcontent-dkq-c68=\"\" class=\"ng-star-inserted\">3.5</span>,\n",
      " <span _ngcontent-dkq-c68=\"\" class=\"ng-star-inserted\">17.3 km</span>,\n",
      " <span _ngcontent-dkq-c68=\"\" class=\"ng-star-inserted\">4.3</span>,\n",
      " <span _ngcontent-dkq-c68=\"\" class=\"ng-star-inserted\">65.7 km</span>,\n",
      " <span _ngcontent-dkq-c68=\"\" class=\"ng-star-inserted\">2.6</span>,\n",
      " <span _ngcontent-dkq-c68=\"\" class=\"ng-star-inserted\">4.5 km</span>]\n"
     ]
    }
   ],
   "source": [
    "pprint(loc)"
   ]
  },
  {
   "cell_type": "code",
   "execution_count": null,
   "metadata": {},
   "outputs": [],
   "source": []
  }
 ],
 "metadata": {
  "kernelspec": {
   "display_name": "Python 3",
   "language": "python",
   "name": "python3"
  },
  "language_info": {
   "codemirror_mode": {
    "name": "ipython",
    "version": 3
   },
   "file_extension": ".py",
   "mimetype": "text/x-python",
   "name": "python",
   "nbconvert_exporter": "python",
   "pygments_lexer": "ipython3",
   "version": "3.8.5"
  }
 },
 "nbformat": 4,
 "nbformat_minor": 4
}
