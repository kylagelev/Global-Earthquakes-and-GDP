{
 "cells": [
  {
   "cell_type": "code",
   "execution_count": 1,
   "metadata": {},
   "outputs": [],
   "source": [
    "# Dependencies\n",
    "import pandas as pd\n",
    "from splinter import Browser\n",
    "from bs4 import BeautifulSoup as bs\n",
    "from webdriver_manager.chrome import ChromeDriverManager\n",
    "import time"
   ]
  },
  {
   "cell_type": "code",
   "execution_count": 2,
   "metadata": {},
   "outputs": [],
   "source": [
    "#Initialize Earthquake data\n",
    "quake_data = {}"
   ]
  },
  {
   "cell_type": "code",
   "execution_count": 3,
   "metadata": {},
   "outputs": [],
   "source": [
    "def init_browser():\n",
    "    # Initialize Browser\n",
    "    executable_path = {'executable_path': ChromeDriverManager().install()}\n",
    "    browser = Browser('chrome', **executable_path, headless=False)\n",
    "    return browser"
   ]
  },
  {
   "cell_type": "code",
   "execution_count": null,
   "metadata": {},
   "outputs": [],
   "source": [
    "def nasa_mars_news():\n",
    "    browser = init_browser()\n",
    "    # Assign NASA Mars News Site to url variable to scrape and open site in browser\n",
    "    url = \"https://earthquake.usgs.gov/fdsnws/event/1/query?format=geojson&starttime=2000-01-01&minmagnitude=7\"\n",
    "    browser.visit(url)\n",
    "    # Start time to allow loading\n",
    "    time.sleep(1)\n",
    "    # Scrape page into Soup\n",
    "    html = browser.html\n",
    "    soup = bs(html,\"html.parser\")\n",
    "    # Collect the latest News Title and Paragraph Text\n",
    "    first_article = soup.find('li', class_='slide')\n",
    "    # Get the latest article's title\n",
    "    first_title = first_article.find('div',class_='content_title').text\n",
    "    # Get the latest article's paragraph text\n",
    "    first_para = first_article.find('div',class_='article_teaser_body').text\n",
    "    # Close the browser after scraping\n",
    "    browser.quit()\n",
    "    # Store data in mars dictionary\n",
    "    mars_data['article_title'] = first_title\n",
    "    mars_data['article_txt'] = first_para"
   ]
  }
 ],
 "metadata": {
  "kernelspec": {
   "display_name": "Python 3",
   "language": "python",
   "name": "python3"
  },
  "language_info": {
   "codemirror_mode": {
    "name": "ipython",
    "version": 3
   },
   "file_extension": ".py",
   "mimetype": "text/x-python",
   "name": "python",
   "nbconvert_exporter": "python",
   "pygments_lexer": "ipython3",
   "version": "3.8.5"
  }
 },
 "nbformat": 4,
 "nbformat_minor": 4
}
